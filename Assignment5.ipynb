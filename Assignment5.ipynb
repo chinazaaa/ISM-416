{
 "cells": [
  {
   "cell_type": "code",
   "execution_count": null,
   "metadata": {},
   "outputs": [
    {
     "name": "stdout",
     "output_type": "stream",
     "text": [
      "Type in the url you want to scrape :https://www.npr.org/2021/04/28/991683886/frightened-to-death-cheerleader-speech-case-gives-supreme-court-pause\n",
      "Your url is : https://www.npr.org/2021/04/28/991683886/frightened-to-death-cheerleader-speech-case-gives-supreme-court-pause\n"
     ]
    }
   ],
   "source": [
    "def scraper():\n",
    "    import requests\n",
    "    from bs4 import BeautifulSoup\n",
    "    import gensim\n",
    "    import docx\n",
    "    url = input('Type in the url you want to scrape :')\n",
    "    print(\"Your url is :\", url)\n",
    "    page = requests.get(url).text\n",
    "    print(page)\n",
    "    soup = BeautifulSoup(page)\n",
    "    print(soup)\n",
    "    header = soup.find('h1').get_text()\n",
    "    date = soup.find('span', attrs = {'class': 'date'}).text\n",
    "    p_tags = soup.findAll('p')\n",
    "    #strip removes space\n",
    "    text = [tags.get_text().strip() for tags in p_tags]\n",
    "    print(text)\n",
    "    #remove everything thats not new line\n",
    "    sentence_list = [ sentence for sentence in text if not '\\n' in sentence]\n",
    "    sentence_list = [ sentence for sentence in sentence_list if '.' in sentence]\n",
    "    article = ''.join(sentence_list)\n",
    "    from gensim.summarization import summarize\n",
    "    summary = summarize(article, ratio = 0.15)\n",
    "    doc = docx.Document()\n",
    "    doc.add_heading(header)\n",
    "    doc.add_picture('picture.png')\n",
    "    doc.add_paragraph(date)\n",
    "    doc.add_paragraph(article)\n",
    "    doc.add_paragraph(summary)\n",
    "    doc.save('document.doc')  \n",
    "scraper()"
   ]
  },
  {
   "cell_type": "code",
   "execution_count": null,
   "metadata": {},
   "outputs": [],
   "source": []
  }
 ],
 "metadata": {
  "kernelspec": {
   "display_name": "Python 3",
   "language": "python",
   "name": "python3"
  },
  "language_info": {
   "codemirror_mode": {
    "name": "ipython",
    "version": 3
   },
   "file_extension": ".py",
   "mimetype": "text/x-python",
   "name": "python",
   "nbconvert_exporter": "python",
   "pygments_lexer": "ipython3",
   "version": "3.8.5"
  }
 },
 "nbformat": 4,
 "nbformat_minor": 4
}
