{
 "cells": [
  {
   "cell_type": "markdown",
   "metadata": {},
   "source": [
    "## Write your name and mat.no in markdown format\n",
    "\n",
    "#### Chinaza Obiekwe\n",
    "#### 17100310846\n"
   ]
  },
  {
   "cell_type": "markdown",
   "metadata": {},
   "source": [
    "## `Question 1:` What are regular expressions and why are they important? \n",
    "\n",
    "#### A regular expression (or RE) is a sequence of characters that forms a search pattern. It specifies a set of strings that matches it; the functions in this module let you check if a particular string matches a given regular expression.  Regular expressions are useful in search and replace operations. They allow you to find / match as well as replace inexact patterns and even special characters (like tabs and line breaks) in text. "
   ]
  },
  {
   "cell_type": "markdown",
   "metadata": {},
   "source": [
    "## `Question 2:` From what you have learnt so far, create a pattern to identify any other information in the test_emails.txt Corpus"
   ]
  },
  {
   "cell_type": "code",
   "execution_count": 2,
   "metadata": {},
   "outputs": [],
   "source": [
    "file = open('test_emails.txt').read()"
   ]
  },
  {
   "cell_type": "code",
   "execution_count": 3,
   "metadata": {},
   "outputs": [],
   "source": [
    "import re"
   ]
  },
  {
   "cell_type": "code",
   "execution_count": 4,
   "metadata": {},
   "outputs": [],
   "source": [
    "match = re.findall('Status:.*', file)"
   ]
  },
  {
   "cell_type": "code",
   "execution_count": 5,
   "metadata": {},
   "outputs": [
    {
     "data": {
      "text/plain": [
       "['Status: O', 'Status: RO']"
      ]
     },
     "execution_count": 5,
     "metadata": {},
     "output_type": "execute_result"
    }
   ],
   "source": [
    "match"
   ]
  },
  {
   "cell_type": "code",
   "execution_count": 6,
   "metadata": {},
   "outputs": [
    {
     "name": "stdout",
     "output_type": "stream",
     "text": [
      "[' O']\n",
      "[' RO']\n"
     ]
    }
   ],
   "source": [
    "for status in match:\n",
    "    print(re.findall(\"\\s\\w.*\", status))"
   ]
  },
  {
   "cell_type": "code",
   "execution_count": 7,
   "metadata": {},
   "outputs": [],
   "source": [
    "content = re.findall('Content-Transfer-Encoding:.*', file)\n"
   ]
  },
  {
   "cell_type": "code",
   "execution_count": 8,
   "metadata": {},
   "outputs": [
    {
     "data": {
      "text/plain": [
       "['Content-Transfer-Encoding: 7bit', 'Content-Transfer-Encoding: 8bit']"
      ]
     },
     "execution_count": 8,
     "metadata": {},
     "output_type": "execute_result"
    }
   ],
   "source": [
    "content"
   ]
  },
  {
   "cell_type": "code",
   "execution_count": 9,
   "metadata": {},
   "outputs": [
    {
     "name": "stdout",
     "output_type": "stream",
     "text": [
      "[' 7bit']\n",
      "[' 8bit']\n"
     ]
    }
   ],
   "source": [
    "for status in content:\n",
    "    print(re.findall(\"\\s\\d\\w.*\", status))"
   ]
  },
  {
   "cell_type": "code",
   "execution_count": 10,
   "metadata": {},
   "outputs": [],
   "source": [
    "sieve = re.findall('X-Sieve:.*', file)\n"
   ]
  },
  {
   "cell_type": "code",
   "execution_count": 11,
   "metadata": {},
   "outputs": [
    {
     "data": {
      "text/plain": [
       "['X-Sieve: cmu-sieve 2.0', 'X-Sieve: cmu-sieve 2.0']"
      ]
     },
     "execution_count": 11,
     "metadata": {},
     "output_type": "execute_result"
    }
   ],
   "source": [
    "sieve"
   ]
  },
  {
   "cell_type": "code",
   "execution_count": 12,
   "metadata": {},
   "outputs": [
    {
     "name": "stdout",
     "output_type": "stream",
     "text": [
      "[' cmu-sieve 2.0']\n",
      "[' cmu-sieve 2.0']\n"
     ]
    }
   ],
   "source": [
    "for status in sieve:\n",
    "    print(re.findall(\"\\s\\w.*\", status))"
   ]
  },
  {
   "cell_type": "markdown",
   "metadata": {},
   "source": [
    "## `Question 3:` Create a pattern to identify the date in DD MMM YYYY format!"
   ]
  },
  {
   "cell_type": "code",
   "execution_count": 13,
   "metadata": {},
   "outputs": [],
   "source": [
    "findDate = re.findall('Date:.*', file)"
   ]
  },
  {
   "cell_type": "code",
   "execution_count": 14,
   "metadata": {},
   "outputs": [
    {
     "data": {
      "text/plain": [
       "['Date: Thu, 31 Oct 2002 05:10:00', 'Date: Thu, 31 Oct 2002 22:17:55 +0100']"
      ]
     },
     "execution_count": 14,
     "metadata": {},
     "output_type": "execute_result"
    }
   ],
   "source": [
    "findDate"
   ]
  },
  {
   "cell_type": "code",
   "execution_count": 23,
   "metadata": {},
   "outputs": [
    {
     "name": "stdout",
     "output_type": "stream",
     "text": [
      "['1 ', '2 ', '1 ', '2 ', '5 ']\n",
      "['1 ', '2 ', '1 ', '2 ', '5 ']\n"
     ]
    }
   ],
   "source": [
    "for status in findDate:\n",
    "    print(re.findall(\"\\d+\\s\\w+\\\", str(findDate)))"
   ]
  },
  {
   "cell_type": "markdown",
   "metadata": {},
   "source": [
    ">>>>>>>>>># Enjoy"
   ]
  },
  {
   "cell_type": "code",
   "execution_count": null,
   "metadata": {},
   "outputs": [],
   "source": []
  }
 ],
 "metadata": {
  "kernelspec": {
   "display_name": "Python 3",
   "language": "python",
   "name": "python3"
  },
  "language_info": {
   "codemirror_mode": {
    "name": "ipython",
    "version": 3
   },
   "file_extension": ".py",
   "mimetype": "text/x-python",
   "name": "python",
   "nbconvert_exporter": "python",
   "pygments_lexer": "ipython3",
   "version": "3.8.5"
  }
 },
 "nbformat": 4,
 "nbformat_minor": 2
}
