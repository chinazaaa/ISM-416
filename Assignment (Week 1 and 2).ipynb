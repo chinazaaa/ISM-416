{
 "cells": [
  {
   "cell_type": "markdown",
   "metadata": {},
   "source": [
    "# `Note:` All assignment should be done inside the notebook (Double tap on each of this text to edit)."
   ]
  },
  {
   "cell_type": "markdown",
   "metadata": {},
   "source": [
    "### `Question 1`: Write your full name and your   \n",
    "### Matriculation number\n",
    "#### Chinaza Obiekwe\n",
    "#### 17100310846"
   ]
  },
  {
   "cell_type": "markdown",
   "metadata": {},
   "source": [
    "### `Question 2`: What do you understand by natural language processing ?\n",
    "#### Natural language Processing (NLP) is a branch of artificial intelligence that has a substantial importance and implications on how  computers and humans interact. It allows machines to break down and understand human language."
   ]
  },
  {
   "cell_type": "markdown",
   "metadata": {},
   "source": [
    "### `Question 3`: List some of the applications of natural language processing\n",
    "#### \n",
    "+ In a product review online, we can use NLP to extract sentiment keywords from a customer's comment and feedback. From there, we can learn about how the customers feels about their purchases.\n",
    "+ We can also use NLP to analyse tweets to learn about the topics people are discussing. For example, politicians use this approach to find out the topics that their voters are talking about.\n",
    "+ Spell correction (MS Word/ any other editor): NLP allows MS Word to detect words which needs correction and proposing a correction or a list of candidate corrections for the word.\n",
    "+ Search engines (Google, Bing, Yahoo): Google uses NLP to evolve the accuracy of its search results\n",
    "+ Speech engines (Siri, Google Voice): NLP works closely with speech/voice recognition and text recognition engines. It changes voice to text and vice-versa.\n",
    "+ Spam classifiers (All email services): NLP is used in classifying spams as seen in most email services, for example: Gmail.\n",
    "+ News feeds (Google, Yahoo, and so on): NLP helps a platform accurately predict user preferences to effectively improve user satisfaction. It can also improve news information content and accuracy classification structures.\n",
    "+ Machine translation (Google Translate): NLP enables Google Translate to translate from one language to another."
   ]
  },
  {
   "cell_type": "markdown",
   "metadata": {},
   "source": [
    "### `Question 4`: What are some of the challenges of NLP?\n"
   ]
  },
  {
   "cell_type": "markdown",
   "metadata": {},
   "source": [
    "### `Question 5`: Using some of the string operations learnt from this weeks topic (like: `set(), istitle(), split(), replace(), etc.`)\n",
    "### Declear 4 different strings (sentences) and apply the functions/methods."
   ]
  },
  {
   "cell_type": "markdown",
   "metadata": {},
   "source": [
    ">>>> # Have a wonderful week ahead."
   ]
  },
  {
   "cell_type": "code",
   "execution_count": 5,
   "metadata": {},
   "outputs": [
    {
     "name": "stdout",
     "output_type": "stream",
     "text": [
      "{'Rice', 'Beans', 'Garri'}\n",
      "{'Ella', 'Naza', 'Praise'}\n",
      "{'Secondary', 'Tertiary', 'Primary'}\n",
      "{'JavaScript', 'Flutter', 'Python'}\n"
     ]
    }
   ],
   "source": [
    "#The set() function creates a set object.\n",
    "thisset = set((\"Rice\", \"Beans\", \"Garri\")) \n",
    "print(thisset)\n",
    "thisset = set((\"Naza\", \"Ella\", \"Praise\")) \n",
    "print(thisset)\n",
    "thisset = set((\"Primary\", \"Secondary\", \"Tertiary\")) \n",
    "print(thisset)\n",
    "thisset = set((\"Python\", \"JavaScript\", \"Flutter\")) \n",
    "print(thisset)"
   ]
  },
  {
   "cell_type": "code",
   "execution_count": 7,
   "metadata": {},
   "outputs": [
    {
     "name": "stdout",
     "output_type": "stream",
     "text": [
      "True\n",
      "False\n",
      "True\n",
      "True\n",
      "False\n"
     ]
    }
   ],
   "source": [
    "#The istitle() method returns True if all words in a text start with a upper case letter, AND the rest of the word are lower case letters, otherwise False. Symbols and numbers are ignored.\n",
    "String1 = 'Python Is Easy.'\n",
    "print(String1.istitle())\n",
    "\n",
    "String2 = 'Flutter is okay'\n",
    "print(String2.istitle())\n",
    "\n",
    "String3 = 'This Is @ Symbol.'\n",
    "print(String3.istitle())\n",
    "\n",
    "String4 = '10 Is A Number'\n",
    "print(String4.istitle())\n",
    "\n",
    "String5 = 'PYTHON'\n",
    "print(String5.istitle())"
   ]
  },
  {
   "cell_type": "code",
   "execution_count": 9,
   "metadata": {},
   "outputs": [
    {
     "name": "stdout",
     "output_type": "stream",
     "text": [
      "['My', 'name', 'is', 'Naza']\n",
      "['Lasagna', 'Pizza', 'Shawarma']\n",
      "['Red', 'Blue', 'Green']\n"
     ]
    }
   ],
   "source": [
    "#The split() method splits a string into a list.\n",
    "text= 'My name is Naza'\n",
    "\n",
    "# splits at space\n",
    "print(text.split())\n",
    "\n",
    "food = 'Lasagna, Pizza, Shawarma'\n",
    "\n",
    "colors = 'Red:Blue:Green'\n",
    "# splits at ','\n",
    "print(food.split(', '))\n",
    "\n",
    "# Splitting at ':'\n",
    "print(colors.split(':'))"
   ]
  },
  {
   "cell_type": "code",
   "execution_count": 10,
   "metadata": {},
   "outputs": [
    {
     "name": "stdout",
     "output_type": "stream",
     "text": [
      "I like icecream\n"
     ]
    }
   ],
   "source": [
    "# Replace() replaces all the occurrences of the old substring with the new substring.\n",
    "\n",
    "text = \"I like suya\"\n",
    "\n",
    "x = text.replace(\"suya\", \"icecream\")\n",
    "\n",
    "print(x)\n",
    "\n",
    "\n",
    "text = \"one is a girk, three is a boy.\"\n",
    "\n",
    "x = txt.replace(\"one\", \"three\")\n",
    "\n",
    "print(x)"
   ]
  },
  {
   "cell_type": "code",
   "execution_count": null,
   "metadata": {},
   "outputs": [],
   "source": []
  }
 ],
 "metadata": {
  "kernelspec": {
   "display_name": "Python 3",
   "language": "python",
   "name": "python3"
  },
  "language_info": {
   "codemirror_mode": {
    "name": "ipython",
    "version": 3
   },
   "file_extension": ".py",
   "mimetype": "text/x-python",
   "name": "python",
   "nbconvert_exporter": "python",
   "pygments_lexer": "ipython3",
   "version": "3.8.5"
  }
 },
 "nbformat": 4,
 "nbformat_minor": 2
}
