{
 "cells": [
  {
   "cell_type": "code",
   "execution_count": null,
   "metadata": {},
   "outputs": [],
   "source": [
    "## Scrape any two articles of choice, summarize them and perform NLP taskson the summaries\n",
    "\n"
   ]
  },
  {
   "cell_type": "markdown",
   "metadata": {},
   "source": [
    "#### Chinaza Obiekwe. 17100310846"
   ]
  },
  {
   "cell_type": "code",
   "execution_count": null,
   "metadata": {},
   "outputs": [],
   "source": [
    "import requests\n",
    "from bs4 import BeautifulSoup\n",
    "import gensim\n",
    "import docx\n",
    "url = 'https://www.bbc.com/news/world-africa-56993215'\n",
    "print(\"Your url is :\", url)\n",
    "page = requests.get(url).text\n",
    "print(page)\n",
    "soup = BeautifulSoup(page)\n",
    "print(soup)\n",
    "header = soup.find('h1').get_text()\n",
    "header2 = 'Summary'\n",
    "date = soup.find('time', attrs = {'data-testid': 'timestamp'}).text\n",
    "p_tags = soup.findAll('p')\n",
    "#strip removes space\n",
    "text = [tags.get_text().strip() for tags in p_tags]\n",
    "print(text)\n",
    "#remove everything thats not new line\n",
    "sentence_list = [ sentence for sentence in text if not '\\n' in sentence]\n",
    "sentence_list = [ sentence for sentence in sentence_list if '.' in sentence]\n",
    "article = ''.join(sentence_list)\n",
    "from gensim.summarization import summarize\n",
    "summary = summarize(article, ratio = 0.15)\n",
    "doc = docx.Document()\n",
    "doc.add_heading(header)\n",
    "doc.add_picture('picture.png')\n",
    "doc.add_paragraph(date)\n",
    "doc.add_paragraph(article)\n",
    "doc.add_heading(header2)\n",
    "doc.add_paragraph(summary)\n",
    "doc.save('document.doc')\n",
    "\n"
   ]
  }
 ],
 "metadata": {
  "kernelspec": {
   "display_name": "Python 3",
   "language": "python",
   "name": "python3"
  },
  "language_info": {
   "codemirror_mode": {
    "name": "ipython",
    "version": 3
   },
   "file_extension": ".py",
   "mimetype": "text/x-python",
   "name": "python",
   "nbconvert_exporter": "python",
   "pygments_lexer": "ipython3",
   "version": "3.8.5"
  }
 },
 "nbformat": 4,
 "nbformat_minor": 2
}
